{
 "cells": [
  {
   "cell_type": "markdown",
   "metadata": {},
   "source": [
    "# Importing Libraries and Setting Paths"
   ]
  },
  {
   "cell_type": "code",
   "execution_count": 2,
   "metadata": {},
   "outputs": [],
   "source": [
    "import os\n",
    "\n",
    "root = os.path.abspath('./')\n",
    "temporary_results = os.path.join(root, 'temp_results')\n",
    "\n",
    "instance_segmentation_file = os.path.join(temporary_results, \"Instance_Segmentation.json\")\n",
    "semantic_segmentation_file = os.path.join(temporary_results, \"Semantic_Segmentation.json\")\n",
    "panoptic_segmentation_file = os.path.join(root, \"final_results\", \"panoptic_val2017_DeepLabV2CrfMRCNN_results.json\")\n",
    "panoptic_categories_file = os.path.join(root, \"git_repos\", \"panopticapi\", \"panoptic_coco_categories.json\")\n",
    "coco_images_json_file = os.path.join(root, \"dataset\",\"coco\",\"val2017\",\"annotations\",\"panoptic_val2017.json\")"
   ]
  },
  {
   "cell_type": "code",
   "execution_count": 3,
   "metadata": {},
   "outputs": [
    {
     "data": {
      "text/plain": [
       "'C:\\\\Users\\\\ENNAJIHYassin\\\\Desktop\\\\Panoptic'"
      ]
     },
     "execution_count": 3,
     "metadata": {},
     "output_type": "execute_result"
    }
   ],
   "source": [
    "os.getcwd()"
   ]
  },
  {
   "cell_type": "code",
   "execution_count": 4,
   "metadata": {},
   "outputs": [],
   "source": [
    "import sys\n",
    "#os.chdir(os.path.abspath(\"./git_repos/panopticapi\"))\n",
    "panoptic_api_path = os.path.abspath(\"./git_repos/panopticapi\")\n",
    "sys.path.append(panoptic_api_path)\n",
    "\n",
    "from combine_semantic_and_instance_predictions import combine_predictions"
   ]
  },
  {
   "cell_type": "code",
   "execution_count": 5,
   "metadata": {},
   "outputs": [
    {
     "data": {
      "text/plain": [
       "'C:\\\\Users\\\\ENNAJIHYassin\\\\Desktop\\\\Panoptic'"
      ]
     },
     "execution_count": 5,
     "metadata": {},
     "output_type": "execute_result"
    }
   ],
   "source": [
    "os.getcwd()"
   ]
  },
  {
   "cell_type": "markdown",
   "metadata": {},
   "source": [
    "# Combine Inferences"
   ]
  },
  {
   "cell_type": "code",
   "execution_count": 6,
   "metadata": {
    "scrolled": true
   },
   "outputs": [
    {
     "name": "stdout",
     "output_type": "stream",
     "text": [
      "Creating folder C:\\Users\\ENNAJIHYassin\\Desktop\\Panoptic\\final_results\\panoptic_val2017_DeepLabV2CrfMRCNN_results for panoptic segmentation PNGs\n",
      "Combining:\n",
      "Semantic segmentation:\n",
      "\tJSON file: C:\\Users\\ENNAJIHYassin\\Desktop\\Panoptic\\temp_results\\Semantic_Segmentation.json\n",
      "and\n",
      "Instance segmentations:\n",
      "\tJSON file: C:\\Users\\ENNAJIHYassin\\Desktop\\Panoptic\\temp_results\\Instance_Segmentation.json\n",
      "into\n",
      "Panoptic segmentations:\n",
      "\tSegmentation folder: C:\\Users\\ENNAJIHYassin\\Desktop\\Panoptic\\final_results\\panoptic_val2017_DeepLabV2CrfMRCNN_results\n",
      "\tJSON file: C:\\Users\\ENNAJIHYassin\\Desktop\\Panoptic\\final_results\\panoptic_val2017_DeepLabV2CrfMRCNN_results.json\n",
      "List of images to combine is takes from C:\\Users\\ENNAJIHYassin\\Desktop\\Panoptic\\imgs_info.json\n",
      "\n",
      "\n",
      "Number of cores: 8, images per core: 625\n",
      "Time elapsed: 30.86 seconds\n"
     ]
    }
   ],
   "source": [
    "# try :\n",
    "combine_predictions(semseg_json_file = semantic_segmentation_file,\n",
    "                    instseg_json_file = instance_segmentation_file,\n",
    "                    images_json_file = coco_images_json_file,\n",
    "                    categories_json_file = panoptic_categories_file,\n",
    "                    segmentations_folder = None,  #To automatically create panoptic result folder with the challenge conventions\n",
    "                    panoptic_json_file = panoptic_segmentation_file,\n",
    "                    confidence_thr = 0.5,\n",
    "                    overlap_thr = 0.5,\n",
    "                    stuff_area_limit = 0.5\n",
    "    )\n",
    "# except keyError as e:\n",
    "#     if \"None\" in e:\n",
    "#         print(\"Found a None matching Semantic/Panoptic category\")\n",
    "#     continue"
   ]
  },
  {
   "cell_type": "code",
   "execution_count": null,
   "metadata": {},
   "outputs": [],
   "source": []
  }
 ],
 "metadata": {
  "kernelspec": {
   "display_name": "Python 3",
   "language": "python",
   "name": "python3"
  },
  "language_info": {
   "codemirror_mode": {
    "name": "ipython",
    "version": 3
   },
   "file_extension": ".py",
   "mimetype": "text/x-python",
   "name": "python",
   "nbconvert_exporter": "python",
   "pygments_lexer": "ipython3",
   "version": "3.6.5"
  }
 },
 "nbformat": 4,
 "nbformat_minor": 2
}
